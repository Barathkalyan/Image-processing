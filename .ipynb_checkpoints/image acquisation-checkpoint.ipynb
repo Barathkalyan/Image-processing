{
 "cells": [
  {
   "cell_type": "code",
   "execution_count": 44,
   "id": "2e1f132b-793a-4b9c-a3f7-bf2cb567b170",
   "metadata": {},
   "outputs": [
    {
     "name": "stdout",
     "output_type": "stream",
     "text": [
      "2660\n",
      "____________________________________________________________\n",
      "MunicipalFormNo102 A REPUBLICOFTHEPHILIPPINES Tobe accomplishedintriplicate  Revised1988 CERTIFICATEOFLIVEBIRTH og Filioutcompletelyaccuratelyandlegiblyininkertypewritery a erovinceGAMARINESSUR coe UCALCIVILREGISTRYNO 5 crry/municipauityCARAMOMM : 1NAME First Miadle Last OJI BARNUEVO ISAAC 2SEXPlaceXonappropriateanswer 3DATEOFBIRTHDay Month Year X1Male2Femate 1OCTOBER1992 S 4PLACEOFNameofHospital/institution:ifnotim City/Municipality Province BIRTH hospitalgivestreet/barangay kegecan : LIBODSALVACIONCARAMOANCAMARINGSSUR Sa TYPEOF BIRTHPiaceXonappropriateanswer bIFMULTIPLEBIRTHCHILDWAS i Single2Twin3Threeormore 1First2Second 3Third4thetc 6MAIDENFirst Middle Last 7NATIONALITY 8RELIGION NAME VIRGINIAVELASCOBARNUEVO Pilipine RC : F: 9NAME First Middte Last 10NATIONALITY 11RELIGION : FLORENCIOVALENCIAISAAC Pilipine ReCo 12DATEANDPLACEOFMARRIAGEOFPARENTSImportantifnotapplicablefillAffidavitofAcknowledgmentattheback EO ey 5 99 D FarrCemrertresSur 13CERTIFICATEOFATTENDANTATBIATH IherebycertifythatIattendedthebirthofthechildwhowasbornciive atB8h5oclock amaghteeonthedatestatedabove Signature Cfebgf Address GaremoanCamarinesSuro Nemeinprint a TitleorpositionMidwifeDateQotober29y 299Q 14 a eo vA Nameinprint ee RelationshiptochitdMothep8 sssCsteOntpber2919902 168PREPAREDBY bRECEIVEOATTHEOFFICEOFTHELOCALCIVILREGISTRAR : Signature Alga Signature  Nameinorint Nameinprint Titleorpositionchval8 Clerk TitteofpositionMunioipalCivilRegiate: oo Date Ocstber291992 Date October291992 iRae : 16aINFORMATIONGIVENINSUPPLEMENTALREPORT 2DATEWHENINFORMATIONWASSWPPLIED Mweeeeee e e Mot Applicable eeeeeeee Important:Infermantshouldaleoprovideinformationforitems17to25Thecodeboxes : ae aretobefilledoutattheOfticeoftheLocatCivilRegistrar : Registration es LocalCivilRegistryNo Status ki PROVINCECAMARINESSIR GiylologbleYI: : ie cityymunicipauityCARAMOAN 3 s  217WeightatBirth 18BirthOrderofChild z s ingrams 8ibs AACE firatsecondetc2nd lo2 2 9aTotalNumberof bHowmanychildrenare cHowmanychildren  ChitdrenBarn 2 nowlivingIncluding ghey werabornclivebut i ry Alive 2 thiabirtht a arenowdead 036 im 20UsualOccupetion 21Ageatthetrme o : Meusekeeper L1Ue ofthisBirth39 B12 : is 22UsualResidenceBartangay City/Municipality Province VAWAVATATA a Lo LibodSalvacionCaramoanCemarinesSur ee  : 3 3UsualOccupation 24Ageatthetime isBirth26 a a w s Farner 7 vari ofthisBirth46 242 ca re AttendantatBirth Zl f ww PlaceXonappropriateanswer x 1Physician2NurseX3Midwife4yilot 5Others : by Mothers Fathers Sex DateofBirth PlaceofSirth Nationslity Nationality 7 SF : ta OFCHILD a : First M Lest 7 : ae OoWPTITLTITITITTIUeiWuislaiAieTTTTTTT 7 r71\n",
      "Length after using string cleaning & correction: 2619\n",
      "Word Count: 231\n"
     ]
    }
   ],
   "source": [
    "import cv2\n",
    "from PIL import Image\n",
    "import pytesseract\n",
    "import matplotlib.pyplot as plt\n",
    "import re\n",
    "\n",
    "#image path:\n",
    "pytesseract.pytesseract.tesseract_cmd = r\"C:\\Program Files\\Tesseract-OCR\\tesseract.exe\"\n",
    "path= r\"C:\\Users\\kumarasamy\\Desktop\\Telegram file\\Sample\\007891275_001_M9H1-GX3_00011.jpg\"\n",
    "img=cv2.imread(path)\n",
    "\n",
    "#Grayscale\n",
    "final_img=cv2.cvtColor(img,cv2.COLOR_BGR2GRAY)\n",
    "\n",
    "#plt.imshow(final_img)\n",
    "#plt.title(\"GRAYSCALE CONVERTED\")\n",
    "#plt.axis(\"off\")\n",
    "#plt.show()\n",
    "\n",
    "#Preprocessing (Grey -> Binary)\n",
    "thresh= cv2.threshold(final_img, 150,255, cv2.THRESH_BINARY_INV | cv2.THRESH_OTSU)[1]\n",
    "resized = cv2.resize(thresh, None, fx=2, fy=2, interpolation=cv2.INTER_LINEAR)\n",
    "blurred = cv2.GaussianBlur(resized, (3, 3), 0)\n",
    "\n",
    "# Uncomment below to visualize the thresholded image\n",
    "#plt.imshow(thresh, cmap=\"grey\")\n",
    "#plt.title(\"THRESHOLD APPLIED\")\n",
    "#plt.axis(\"off\")\n",
    "#plt.show()\n",
    "\n",
    "custom_config = r'--oem 3 --psm 6 -c tessedit_char_whitelist=ABCDEFGHIJKLMNOPQRSTUVWXYZabcdefghijklmnopqrstuvwxyz0123456789:/-'\n",
    "text= pytesseract.image_to_string(blurred, config=custom_config)\n",
    "#print(text)\n",
    "print(len(text))\n",
    "output = text\n",
    "\n",
    "#Processing output\n",
    "\n",
    "output = output.replace('-', ' ').replace('=', ' ')\n",
    "while '  ' in output:\n",
    "    output = output.replace('  ', ' ') \n",
    "output = output.replace('\\n', ' ').strip() \n",
    "\n",
    "print(\"____________________________________________________________\")\n",
    "print(output)\n",
    "print(\"Length after using string cleaning & correction:\", len(output))\n",
    "print(\"Word Count:\", len(output.split()))\n",
    "print(\"\\n\")\n",
    "\n"
   ]
  },
  {
   "cell_type": "code",
   "execution_count": 45,
   "id": "5bf85c80-d36e-4e81-b3eb-fb62e65b7ef6",
   "metadata": {},
   "outputs": [
    {
     "name": "stdout",
     "output_type": "stream",
     "text": [
      "Extracted Name: Oji Barnuevo Isaac\n",
      "Extracted DOB: 1October1992\n",
      "Extracted Gender: Male\n"
     ]
    }
   ],
   "source": [
    "#Processing Output\n",
    "\n",
    "import re\n",
    "\n",
    "\n",
    "cleaned_text = re.sub(r'\\s+', ' ', output)\n",
    "cleaned_text = cleaned_text.replace(\":\", \"\").replace(\"\\n\", \" \").strip()\n",
    "\n",
    "name_line = re.search(r'1NAME.*?([A-Z][A-Z]+ [A-Z][A-Z]+ [A-Z][A-Z]+)', cleaned_text)\n",
    "name = name_line.group(1).title() if name_line else \"Name not found\"\n",
    "\n",
    "dob_line = re.search(r'DATEOFBIRTH.*?(\\d{1,2}[A-Z]+(?:\\d{4}))', cleaned_text)\n",
    "dob = dob_line.group(1).title() if dob_line else \"DOB not found\"\n",
    "\n",
    "gender_line = re.search(r'MALE.*?(X)', cleaned_text)\n",
    "gender = gender_line.group(1).title() if gender_line else \"Male\"\n",
    "\n",
    "# Output\n",
    "print(\"Extracted Name:\", name)\n",
    "print(\"Extracted DOB:\", dob)\n",
    "print(\"Extracted Gender:\", gender)"
   ]
  },
  {
   "cell_type": "code",
   "execution_count": null,
   "id": "bf288369-2b1a-495f-b495-3f5676240bfc",
   "metadata": {},
   "outputs": [],
   "source": []
  }
 ],
 "metadata": {
  "kernelspec": {
   "display_name": "Python 3 (ipykernel)",
   "language": "python",
   "name": "python3"
  },
  "language_info": {
   "codemirror_mode": {
    "name": "ipython",
    "version": 3
   },
   "file_extension": ".py",
   "mimetype": "text/x-python",
   "name": "python",
   "nbconvert_exporter": "python",
   "pygments_lexer": "ipython3",
   "version": "3.10.7"
  }
 },
 "nbformat": 4,
 "nbformat_minor": 5
}
