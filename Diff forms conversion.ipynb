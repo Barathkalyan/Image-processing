{
 "cells": [
  {
   "cell_type": "code",
   "execution_count": null,
   "id": "fe84a172-bece-42e4-b8ec-726905ed1222",
   "metadata": {},
   "outputs": [],
   "source": [
    "import cv2\n",
    "from PIL import Image\n",
    "import pytesseract\n",
    "import matplotlib.pyplot as plt\n",
    "\n",
    "#image path:\n",
    "path= r\"C:\\Users\\kumarasamy\\Desktop\\Telegram file\\Sample\\007891275_001_M9H1-GX3_00011.jpg\"\n",
    "img=cv2.imread(path)\n",
    "\n",
    "#RGB Converted\n",
    "new_img=cv2.cvtColor(img,cv2.COLOR_BGR2RGB)\n",
    "plt.imshow(new_img)\n",
    "plt.axis(\"off\")\n",
    "plt.title(\"RGB CONVERTED\")\n",
    "plt.show()\n",
    "\n",
    "#Grayscale\n",
    "final_img=cv2.cvtColor(img,cv2.COLOR_BGR2GRAY)\n",
    "plt.imshow(final_img)\n",
    "plt.title(\"GRASCALE CONVERTED\")\n",
    "plt.axis(\"off\")\n",
    "plt.show()"
   ]
  }
 ],
 "metadata": {
  "kernelspec": {
   "display_name": "Python 3 (ipykernel)",
   "language": "python",
   "name": "python3"
  },
  "language_info": {
   "codemirror_mode": {
    "name": "ipython",
    "version": 3
   },
   "file_extension": ".py",
   "mimetype": "text/x-python",
   "name": "python",
   "nbconvert_exporter": "python",
   "pygments_lexer": "ipython3",
   "version": "3.10.7"
  }
 },
 "nbformat": 4,
 "nbformat_minor": 5
}
