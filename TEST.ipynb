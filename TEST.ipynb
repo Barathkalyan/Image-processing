{
 "cells": [
  {
   "cell_type": "code",
   "execution_count": null,
   "id": "934ca106-9792-4ca5-954b-7cb0af138d73",
   "metadata": {},
   "outputs": [],
   "source": [
    "import cv2\n",
    "from PIL import Image\n",
    "import pytesseract\n",
    "import matplotlib.pyplot as plt\n",
    "import re\n",
    "\n",
    "#image path:\n",
    "pytesseract.pytesseract.tesseract_cmd = r\"C:\\Program Files\\Tesseract-OCR\\tesseract.exe\"\n",
    "path= r\"C:\\Users\\kumarasamy\\Desktop\\Telegram file\\Sample\\007891275_001_M9H1-GX3_00011.jpg\"\n",
    "img=cv2.imread(path)\n",
    "\n",
    "#Grayscale\n",
    "final_img=cv2.cvtColor(img,cv2.COLOR_BGR2GRAY)\n",
    "\n",
    "#plt.imshow(final_img)\n",
    "#plt.title(\"GRAYSCALE CONVERTED\")\n",
    "#plt.axis(\"off\")\n",
    "#plt.show()\n",
    "\n",
    "#Preprocessing \n",
    "thresh= cv2.threshold(final_img, 150,255, cv2.THRESH_TRUNC | cv2.THRESH_OTSU)[1]\n",
    "resized = cv2.resize(thresh, None, fx=2, fy=2, interpolation=cv2.INTER_LINEAR)\n",
    "blurred = cv2.GaussianBlur(resized, (3, 3), 0)\n",
    "\n",
    "# Uncomment below to visualize the thresholded image\n",
    "#plt.imshow(thresh, cmap=\"grey\")\n",
    "#plt.title(\"THRESHOLD APPLIED\")\n",
    "#plt.axis(\"off\")\n",
    "#plt.show()\n",
    "\n",
    "custom_config = r'--oem 3 --psm 6 -c tessedit_char_whitelist=ABCDEFGHIJKLMNOPQRSTUVWXYZabcdefghijklmnopqrstuvwxyz0123456789:/-'\n",
    "text= pytesseract.image_to_string(blurred, config=custom_config)\n",
    "#print(text)\n",
    "print(len(text))\n",
    "output = text\n",
    "\n",
    "#Processing output\n",
    "\n",
    "output = output.replace('-', ' ').replace('=', ' ')\n",
    "while '  ' in output:\n",
    "    output = output.replace('  ', ' ') \n",
    "output = output.replace('\\n', ' ').strip() \n",
    "\n",
    "print(\"____________________________________________________________\")\n",
    "print(output)\n",
    "print(\"Length after using string cleaning & correction:\", len(output))\n",
    "print(\"Word Count:\", len(output.split()))\n",
    "print(\"\\n\")\n",
    "\n"
   ]
  }
 ],
 "metadata": {
  "kernelspec": {
   "display_name": "Python 3 (ipykernel)",
   "language": "python",
   "name": "python3"
  },
  "language_info": {
   "codemirror_mode": {
    "name": "ipython",
    "version": 3
   },
   "file_extension": ".py",
   "mimetype": "text/x-python",
   "name": "python",
   "nbconvert_exporter": "python",
   "pygments_lexer": "ipython3",
   "version": "3.10.7"
  }
 },
 "nbformat": 4,
 "nbformat_minor": 5
}
